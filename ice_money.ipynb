{
 "cells": [
  {
   "cell_type": "markdown",
   "metadata": {},
   "source": [
    "# ICE Contractor Analysis\n",
    "By [Leon Yin](www.leonyin.org) Last Updated 2018-12-06\n",
    "\n",
    "View this notebook in [NBViewer](https://nbviewer.jupyter.org/github/yinleon/ice-money/blob/master/ice_money.ipynb) or [Github](https://www.github.com/yinleon/ice-money/blob/master/ice_money.ipynb).\n",
    "The output is availalble publically on [Google Drive](https://docs.google.com/spreadsheets/d/1vo_Z4HJYdcUz0htt63bpft_-sxDdDxSIfX6jJer8nys/edit?usp=sharing) and [Github](https://raw.githubusercontent.com/yinleon/ice-money/master/ice_data/data_out/ice_prime_contractors_aggregated_clean.csv).\n",
    "\n",
    "Following my analysis of [federal contracts](https://nbviewer.jupyter.org/github/yinleon/us-spending/blob/master/1_analysis_methods.ipynb) to the private prisons CoreCivic and Geo Group, this notebook analyzes publically avaiable contracts from the Immigration and Customs Enforcement Agency (ICE). This analysis uses data downloaded from the USASpending.gov [dashboard](https://www.usaspending.gov/#/search/1da7f3124d80741313219fd741632538), specifically I filtered `Funding Agency` with \"U.S. Immigration and Customs Enforcement (ICE) | Sub-Agency\"."
   ]
  },
  {
   "cell_type": "code",
   "execution_count": 1,
   "metadata": {},
   "outputs": [],
   "source": [
    "import glob\n",
    "import datetime\n",
    "import numpy as np\n",
    "import pandas as pd\n",
    "import swifter"
   ]
  },
  {
   "cell_type": "code",
   "execution_count": 2,
   "metadata": {},
   "outputs": [],
   "source": [
    "# data downloaded from USAspending.gov\n",
    "input_file_pattern = 'ice_data/data_in/all_prime_awards_subawards_*/*'"
   ]
  },
  {
   "cell_type": "code",
   "execution_count": 3,
   "metadata": {},
   "outputs": [
    {
     "data": {
      "text/plain": [
       "['ice_data/data_in/all_prime_awards_subawards_20181206050302/all_contracts_subawards_1.csv',\n",
       " 'ice_data/data_in/all_prime_awards_subawards_20181206050302/all_contracts_prime_awards_1.csv',\n",
       " 'ice_data/data_in/all_prime_awards_subawards_20181206050302/all_assistance_prime_awards_1.csv',\n",
       " 'ice_data/data_in/all_prime_awards_subawards_20181206050302/all_assistance_subawards_1.csv']"
      ]
     },
     "execution_count": 3,
     "metadata": {},
     "output_type": "execute_result"
    }
   ],
   "source": [
    "files = glob.glob(input_file_pattern)\n",
    "files"
   ]
  },
  {
   "cell_type": "markdown",
   "metadata": {},
   "source": [
    "Let's just look at prime contracts today."
   ]
  },
  {
   "cell_type": "code",
   "execution_count": 4,
   "metadata": {},
   "outputs": [
    {
     "name": "stderr",
     "output_type": "stream",
     "text": [
      "/anaconda3/lib/python3.6/site-packages/IPython/core/interactiveshell.py:2698: DtypeWarning: Columns (13,32,40,42,43,50,72,73,81,100,128,129) have mixed types. Specify dtype option on import or set low_memory=False.\n",
      "  interactivity=interactivity, compiler=compiler, result=result)\n"
     ]
    }
   ],
   "source": [
    "df_prime_contracts = pd.read_csv(files[1])"
   ]
  },
  {
   "cell_type": "markdown",
   "metadata": {},
   "source": [
    "Something to note here, if we don't filter out funding agency we get some inaccuracies!"
   ]
  },
  {
   "cell_type": "code",
   "execution_count": 5,
   "metadata": {},
   "outputs": [
    {
     "data": {
      "text/plain": [
       "{'awarding_sub_agency_name': 'U.S. IMMIGRATION AND CUSTOMS ENFORCEMENT',\n",
       " 'funding_sub_agency_name': 'U.S. IMMIGRATION AND CUSTOMS ENFORCEMENT'}"
      ]
     },
     "execution_count": 5,
     "metadata": {},
     "output_type": "execute_result"
    }
   ],
   "source": [
    "{\n",
    "    'awarding_sub_agency_name' : 'U.S. IMMIGRATION AND CUSTOMS ENFORCEMENT', # N = 15056\n",
    "    'funding_sub_agency_name' : 'U.S. IMMIGRATION AND CUSTOMS ENFORCEMENT', # N = 17145\n",
    "}"
   ]
  },
  {
   "cell_type": "code",
   "execution_count": 6,
   "metadata": {},
   "outputs": [
    {
     "data": {
      "text/plain": [
       "15056"
      ]
     },
     "execution_count": 6,
     "metadata": {},
     "output_type": "execute_result"
    }
   ],
   "source": [
    "# here we're filtering only when ICE awards a contract\n",
    "df_prime_contracts = df_prime_contracts[\n",
    "    df_prime_contracts['awarding_sub_agency_name'] == 'U.S. IMMIGRATION AND CUSTOMS ENFORCEMENT'\n",
    "]\n",
    "\n",
    "len(df_prime_contracts)"
   ]
  },
  {
   "cell_type": "code",
   "execution_count": 7,
   "metadata": {},
   "outputs": [
    {
     "name": "stdout",
     "output_type": "stream",
     "text": [
      "There are 249 columns in this file!\n",
      "Here are some of the column names:\n"
     ]
    },
    {
     "data": {
      "text/plain": [
       "['award_id_piid',\n",
       " 'parent_award_agency_id',\n",
       " 'parent_award_agency_name',\n",
       " 'parent_award_id',\n",
       " 'obligated_amount',\n",
       " 'current_total_value_of_award',\n",
       " 'potential_total_value_of_award',\n",
       " 'period_of_performance_start_date',\n",
       " 'period_of_performance_current_end_date',\n",
       " 'period_of_performance_potential_end_date',\n",
       " 'ordering_period_end_date',\n",
       " 'awarding_agency_code',\n",
       " 'awarding_agency_name',\n",
       " 'awarding_sub_agency_code',\n",
       " 'awarding_sub_agency_name',\n",
       " 'awarding_office_code',\n",
       " 'awarding_office_name',\n",
       " 'funding_agency_code',\n",
       " 'funding_agency_name',\n",
       " 'funding_sub_agency_code']"
      ]
     },
     "execution_count": 7,
     "metadata": {},
     "output_type": "execute_result"
    }
   ],
   "source": [
    "# there are a lot of columns!\n",
    "prime_cols = df_prime_contracts.columns\n",
    "num_cols = len(prime_cols)\n",
    "print(f\"There are {num_cols} columns in this file!\\nHere are some of the column names:\")\n",
    "prime_cols.values.tolist()[:20]"
   ]
  },
  {
   "cell_type": "markdown",
   "metadata": {},
   "source": [
    "That is a lot of columns, here are the definitions of the columns we'll be using here:"
   ]
  },
  {
   "cell_type": "markdown",
   "metadata": {},
   "source": [
    "## Glossary of fields used in this Analysis with Definitions from USASpending:\n",
    "`recipient_duns`<br>\n",
    "The unique identification number for the ultimate parent of an awardee or recipient. Currently the identifier is the 9-digit number maintained by Dun & Bradstreet as the global parent DUNS® number.\n",
    "\n",
    "\n",
    "\n",
    "`potential_total_value_of_award`<br>\n",
    "The total amount that could be obligated on a contract. This total includes the base plus options amount. For example, if a recipient is awarded 10M on a base contract with 3 option years at 1M each, the potential award amount is 13M.\n",
    "\n",
    "`current_total_value_of_award` <br>\n",
    "The amount of money that the government has promised (obligated) to pay a recipient for a contract. This means the base amount and any exercised options.\n",
    "\n",
    "`period_of_performance_start_date`<br>\n",
    "The date that the award begins.\n",
    "\n",
    "`period_of_performance_potential_end_date`<br>\n",
    "For procurement, the date on which, for the award referred to by the action being reported if all potential pre-determined or pre-negotiated options were exercised, awardee effort is completed or the award is otherwise ended. Administrative actions related to this award may continue to occur after this date. This date does not apply to procurement indefinite delivery vehicles under which definitive orders may be awarded.\n",
    "\n",
    "`funding_sub_agency_name`<br>\n",
    "A Funding Agency pays for the majority of funds for an award out of its budget. Typically, the Funding Agency is the same as the Awarding Agency. In some cases, one agency will administer an award (Awarding Agency) and another agency will pay for it (Funding Agency).\n",
    "\n",
    "`awarding_sub_agency_name`<br>\n",
    "The Awarding Sub Agency is the sub agency that issues and administers the award. For example, the Internal Revenue Service (IRS) is a sub agency of the Department of the Treasury.\n",
    "\n",
    "<hr>\n",
    "\n",
    "Thanks for providing that glossary USASpending, let's do some minor data wrangling and get some summary statistics."
   ]
  },
  {
   "cell_type": "code",
   "execution_count": 8,
   "metadata": {},
   "outputs": [],
   "source": [
    "# convert columns to datetime\n",
    "date_cols = ['period_of_performance_start_date', 'period_of_performance_potential_end_date']\n",
    "for col in date_cols:\n",
    "    df_prime_contracts[col] = pd.to_datetime(df_prime_contracts[col])"
   ]
  },
  {
   "cell_type": "code",
   "execution_count": 9,
   "metadata": {},
   "outputs": [
    {
     "name": "stdout",
     "output_type": "stream",
     "text": [
      "ICE has invested $6,959,189,462.00 in contracts with 3134 Prime contractors since 2006-10-01.\n",
      "ICE has $10,616,424,251.18 in potential payouts with active contracts.\n"
     ]
    }
   ],
   "source": [
    "# aggregate contract values\n",
    "total_spend = df_prime_contracts.drop_duplicates(subset=['award_id_piid']) \\\n",
    "                                .current_total_value_of_award.sum()\n",
    "potential_spend = df_prime_contracts.drop_duplicates(subset=['award_id_piid']) \\\n",
    "                                    .potential_total_value_of_award.sum()\n",
    "at_stake =  potential_spend - total_spend\n",
    "\n",
    "num_contractors = len(df_prime_contracts.recipient_duns.unique())\n",
    "first_contract = df_prime_contracts.period_of_performance_start_date.min().strftime('%Y-%m-%d')\n",
    "\n",
    "print(\"ICE has invested ${:,.2f} in contracts with {} Prime contractors \"\n",
    "      \"since {}.\\nICE has ${:,.2f} in potential payouts with active contracts.\".format(\n",
    "          total_spend, num_contractors, first_contract, at_stake))"
   ]
  },
  {
   "cell_type": "markdown",
   "metadata": {},
   "source": [
    "Let's sort this data by the contract end date"
   ]
  },
  {
   "cell_type": "code",
   "execution_count": 10,
   "metadata": {},
   "outputs": [],
   "source": [
    "df_prime_contracts.sort_values(by=['period_of_performance_potential_end_date'], \n",
    "                               ascending=False, \n",
    "                               inplace=True)"
   ]
  },
  {
   "cell_type": "markdown",
   "metadata": {},
   "source": [
    "There are typos in the recipient names, so let's use their DUNs IDs for aggregate analysis.<br>\n",
    "We can create a `lookup_table` containing the latest name and contact info"
   ]
  },
  {
   "cell_type": "code",
   "execution_count": 11,
   "metadata": {},
   "outputs": [],
   "source": [
    "lookup_cols = [\n",
    "    'recipient_parent_duns',\n",
    "    'recipient_parent_name', \n",
    "    'recipient_address_line_1', \n",
    "    'recipient_address_line_2',\n",
    "    'recipient_city_name', \n",
    "    'recipient_state_code', \n",
    "    'recipient_state_name',\n",
    "    'recipient_zip_4_code', \n",
    "    'recipient_congressional_district',\n",
    "    'recipient_phone_number', \n",
    "    'recipient_fax_number'\n",
    "]"
   ]
  },
  {
   "cell_type": "code",
   "execution_count": 12,
   "metadata": {},
   "outputs": [],
   "source": [
    "lookup_table = df_prime_contracts.drop_duplicates(\n",
    "    subset = ['recipient_parent_duns'],\n",
    "    keep = 'first'\n",
    ")[lookup_cols]"
   ]
  },
  {
   "cell_type": "markdown",
   "metadata": {},
   "source": [
    "There are contractors with similar names (and different DUNS), we can find similar names using fuzzywuzzy, and replace them for aggregation."
   ]
  },
  {
   "cell_type": "code",
   "execution_count": 13,
   "metadata": {},
   "outputs": [
    {
     "name": "stderr",
     "output_type": "stream",
     "text": [
      "/anaconda3/lib/python3.6/site-packages/fuzzywuzzy/fuzz.py:35: UserWarning: Using slow pure-python SequenceMatcher. Install python-Levenshtein to remove this warning\n",
      "  warnings.warn('Using slow pure-python SequenceMatcher. Install python-Levenshtein to remove this warning')\n"
     ]
    }
   ],
   "source": [
    "from fuzzywuzzy import fuzz"
   ]
  },
  {
   "cell_type": "code",
   "execution_count": null,
   "metadata": {},
   "outputs": [],
   "source": [
    "look_up_names = lookup_table[~lookup_table.recipient_parent_name.isnull()].recipient_parent_name.unique()\n",
    "look_up_names.sort()"
   ]
  },
  {
   "cell_type": "markdown",
   "metadata": {},
   "source": [
    "Here we will compare all names, and create a standardized dictionary (`switch_name`) to replace similar names."
   ]
  },
  {
   "cell_type": "code",
   "execution_count": null,
   "metadata": {},
   "outputs": [],
   "source": [
    "window_size = 10 # look at to words to the right and left\n",
    "threshold = 90   # how similar is enough?\n",
    "\n",
    "skip = []\n",
    "switch_name = dict()\n",
    "for i, comp in enumerate(look_up_names):\n",
    "    if comp not in skip:\n",
    "        window = np.concatenate((look_up_names[i-window_size: i], \n",
    "                                 look_up_names[i+1: i+window_size]))\n",
    "        for to_search in window:\n",
    "            similarity_score = fuzz.token_sort_ratio(comp, to_search)\n",
    "            if similarity_score >= threshold:\n",
    "                switch_name[comp] = to_search\n",
    "                skip += [to_search]"
   ]
  },
  {
   "cell_type": "markdown",
   "metadata": {},
   "source": [
    "Let's swamp out the fuzzy names!"
   ]
  },
  {
   "cell_type": "code",
   "execution_count": null,
   "metadata": {},
   "outputs": [],
   "source": [
    "df_prime_contracts.recipient_parent_name.replace(switch_name, \n",
    "                                                 inplace = True)"
   ]
  },
  {
   "cell_type": "code",
   "execution_count": null,
   "metadata": {},
   "outputs": [],
   "source": [
    "lookup_table.recipient_parent_name.replace(switch_name, \n",
    "                                           inplace = True)\n",
    "\n",
    "lookup_table.drop_duplicates(subset = ['recipient_parent_name'],\n",
    "                             keep = 'first',\n",
    "                             inplace = True)"
   ]
  },
  {
   "cell_type": "markdown",
   "metadata": {},
   "source": [
    "Now let's get how much each company has been rewarded, how much they have the potential to be rewarded, how many awards they're been granted, and when their contracts are finished. This code is chained, and kind of messy. Each line aggreagates by the recipient ID, and performs some sort of agg function, and then sorts the values according to the total of the agg function."
   ]
  },
  {
   "cell_type": "code",
   "execution_count": null,
   "metadata": {},
   "outputs": [],
   "source": [
    "contract_amounts = df_prime_contracts.groupby('recipient_parent_name') \\\n",
    "                                     .current_total_value_of_award \\\n",
    "                                     .sum() \\\n",
    "                                     .sort_values(ascending=False)"
   ]
  },
  {
   "cell_type": "code",
   "execution_count": null,
   "metadata": {},
   "outputs": [],
   "source": [
    "contract_potential = df_prime_contracts.groupby('recipient_parent_name') \\\n",
    "                                       .potential_total_value_of_award \\\n",
    "                                       .sum()"
   ]
  },
  {
   "cell_type": "code",
   "execution_count": null,
   "metadata": {},
   "outputs": [],
   "source": [
    "num_awards = df_prime_contracts.groupby('recipient_parent_name') \\\n",
    "                               .award_id_piid.nunique()\n"
   ]
  },
  {
   "cell_type": "code",
   "execution_count": null,
   "metadata": {},
   "outputs": [],
   "source": [
    "award_ids = df_prime_contracts.groupby('recipient_parent_name') \\\n",
    "                              .award_id_piid\\\n",
    "                              .unique().str.join(', ')"
   ]
  },
  {
   "cell_type": "code",
   "execution_count": null,
   "metadata": {},
   "outputs": [],
   "source": [
    "contract_enddate = df_prime_contracts[~df_prime_contracts.period_of_performance_potential_end_date.isnull()] \\\n",
    "                       .groupby('recipient_parent_name') \\\n",
    "                       .period_of_performance_potential_end_date.max()\n"
   ]
  },
  {
   "cell_type": "code",
   "execution_count": null,
   "metadata": {},
   "outputs": [],
   "source": [
    "contract_startdate = df_prime_contracts[~df_prime_contracts.period_of_performance_start_date.isnull()]\\\n",
    "                         .groupby('recipient_parent_name') \\\n",
    "                         .period_of_performance_start_date \\\n",
    "                         .min()"
   ]
  },
  {
   "cell_type": "markdown",
   "metadata": {},
   "source": [
    "For context, let's see what kinds of services each of these companies provide by counting the most frequent words in service descriptions per contractor."
   ]
  },
  {
   "cell_type": "code",
   "execution_count": null,
   "metadata": {},
   "outputs": [],
   "source": [
    "import string\n",
    "from collections import Counter\n",
    "from nltk.corpus import stopwords"
   ]
  },
  {
   "cell_type": "code",
   "execution_count": null,
   "metadata": {},
   "outputs": [],
   "source": [
    "def count_words(row, counter, sw):\n",
    "    '''\n",
    "    Splits sentences, casts words to lowercase, and counts all words that aren't in stopwords (sw)\n",
    "    '''\n",
    "    for c in string.punctuation:\n",
    "        row = row.replace(c, \" \")\n",
    "    counter.update([w for w in row.lower().split() if w not in sw])"
   ]
  },
  {
   "cell_type": "code",
   "execution_count": null,
   "metadata": {},
   "outputs": [],
   "source": [
    "sw = stopwords.words('English')"
   ]
  },
  {
   "cell_type": "code",
   "execution_count": null,
   "metadata": {},
   "outputs": [],
   "source": [
    "top_words = []\n",
    "for company_, df_ in df_prime_contracts.groupby('recipient_parent_name'):\n",
    "    word_counter_ = Counter()\n",
    "    df_['product_or_service_code_description'].apply(count_words, \n",
    "                                                     args = (word_counter_, sw,))\n",
    "    # get top 5 words\n",
    "    top_words_ = ', '.join([w for w, c in word_counter_.most_common(5)])\n",
    "    \n",
    "    # create a dcitonary, and add it to the list\n",
    "    d_ = dict(top_words_from_serv_desc = top_words_,\n",
    "              recipient_parent_name = company_)\n",
    "    \n",
    "    top_words.append(d_)\n",
    "    \n",
    "top_words_per_service_description = pd.DataFrame(top_words)"
   ]
  },
  {
   "cell_type": "markdown",
   "metadata": {},
   "source": [
    "We can join them all together using this craziness below:"
   ]
  },
  {
   "cell_type": "code",
   "execution_count": null,
   "metadata": {},
   "outputs": [],
   "source": [
    "output = (\n",
    "    contract_amounts.reset_index()\n",
    "        .merge(\n",
    "          num_awards.reset_index(), \n",
    "          on='recipient_parent_name',\n",
    "        )\n",
    "        .merge(\n",
    "          contract_potential.reset_index(), \n",
    "          on='recipient_parent_name'\n",
    "        )\n",
    "        .merge(\n",
    "          contract_enddate.reset_index(), \n",
    "          on='recipient_parent_name'\n",
    "        )\n",
    "        .merge(\n",
    "          contract_startdate.reset_index(), \n",
    "          on='recipient_parent_name'\n",
    "        )\n",
    "        .merge(\n",
    "          top_words_per_service_description, \n",
    "          on='recipient_parent_name'\n",
    "        )\n",
    "        .merge(\n",
    "          award_ids.reset_index(),\n",
    "          on='recipient_parent_name'\n",
    "        )\n",
    "        .merge(\n",
    "          lookup_table,\n",
    "          on='recipient_parent_name'\n",
    "        )\n",
    "    )"
   ]
  },
  {
   "cell_type": "markdown",
   "metadata": {},
   "source": [
    "The last merge above is the look_up table, containing metadata for each recipient.<br>\n",
    "Let's change some of the aggregate column names to be more decriptive:"
   ]
  },
  {
   "cell_type": "code",
   "execution_count": null,
   "metadata": {},
   "outputs": [],
   "source": [
    "remapping = {\n",
    "    'current_total_value_of_award' : 'current_total_value_of_awards_USD',\n",
    "    'potential_total_value_of_award' : 'potential_total_value_of_awards_USD',\n",
    "    'period_of_performance_potential_end_date' : 'last_contract_end_date',\n",
    "    'period_of_performance_start_date' : 'first_contract_start_date',\n",
    "    'award_id_piid_x' : 'number_of_prime_awards',\n",
    "    'award_id_piid_y' : 'award_id_piids'\n",
    "}"
   ]
  },
  {
   "cell_type": "code",
   "execution_count": null,
   "metadata": {},
   "outputs": [],
   "source": [
    "output.columns = [remapping.get(c, c) for c in output.columns]"
   ]
  },
  {
   "cell_type": "code",
   "execution_count": null,
   "metadata": {},
   "outputs": [],
   "source": [
    "# convert datetimes\n",
    "for col in ['last_contract_end_date', 'first_contract_start_date']:\n",
    "    output[col] = output[col].dt.strftime('%Y-%m-%d')"
   ]
  },
  {
   "cell_type": "code",
   "execution_count": null,
   "metadata": {},
   "outputs": [],
   "source": [
    "# calculate how much money in on the line for each contractor\n",
    "output['remaining_total_value_of_awards_USD'] = output.potential_total_value_of_awards_USD - output.current_total_value_of_awards_USD"
   ]
  },
  {
   "cell_type": "markdown",
   "metadata": {},
   "source": [
    "Let's timestamp when this file was made."
   ]
  },
  {
   "cell_type": "code",
   "execution_count": null,
   "metadata": {},
   "outputs": [],
   "source": [
    "output['analysis_date'] = datetime.datetime.now() # when was this file made?\n",
    "output['raw_data_download_date'] = datetime.datetime(2018,12,6) # when was raw data downloaded?"
   ]
  },
  {
   "cell_type": "markdown",
   "metadata": {},
   "source": [
    "And lastly, let's re-order the columns so they're readable"
   ]
  },
  {
   "cell_type": "code",
   "execution_count": null,
   "metadata": {},
   "outputs": [],
   "source": [
    "order_cols = [\n",
    "    'recipient_parent_name',\n",
    "    'recipient_parent_duns',\n",
    "    'top_words_from_serv_desc',\n",
    "    'number_of_prime_awards',\n",
    "    'current_total_value_of_awards_USD',\n",
    "    'potential_total_value_of_awards_USD',\n",
    "    'remaining_total_value_of_awards_USD',\n",
    "    'award_id_piids',\n",
    "    'first_contract_start_date',\n",
    "    'last_contract_end_date',\n",
    "    'recipient_address_line_1',\n",
    "    'recipient_address_line_2',\n",
    "    'recipient_city_name', \n",
    "    'recipient_state_code', \n",
    "    'recipient_state_name',\n",
    "    'recipient_zip_4_code',\n",
    "    'recipient_congressional_district',\n",
    "    'recipient_phone_number', \n",
    "    'recipient_fax_number',\n",
    "    'analysis_date',\n",
    "    'raw_data_download_date',\n",
    "]\n",
    "\n",
    "# make these human readible\n",
    "new_cols = [' '.join(c.split('_')).title() for c in order_cols]"
   ]
  },
  {
   "cell_type": "markdown",
   "metadata": {},
   "source": [
    "Here is the output:"
   ]
  },
  {
   "cell_type": "code",
   "execution_count": null,
   "metadata": {},
   "outputs": [],
   "source": [
    "out_order = output[order_cols]\n",
    "out_order.columns = new_cols"
   ]
  },
  {
   "cell_type": "code",
   "execution_count": null,
   "metadata": {},
   "outputs": [],
   "source": [
    "out_order.head(50)"
   ]
  },
  {
   "cell_type": "markdown",
   "metadata": {},
   "source": [
    "There are still a lot of duplicates, future work will be fuzzy matching these accounts.<br>\n",
    "Let's save this as a csv."
   ]
  },
  {
   "cell_type": "code",
   "execution_count": null,
   "metadata": {},
   "outputs": [],
   "source": [
    "outfile = 'ice_data/data_out/ice_prime_contractors_aggregated_clean.csv'\n",
    "out_order.to_csv(outfile, index=False)"
   ]
  },
  {
   "cell_type": "code",
   "execution_count": null,
   "metadata": {},
   "outputs": [],
   "source": [
    "import math\n",
    "\n",
    "millnames = ['',' K',' M',' B',' T']\n",
    "\n",
    "def millify(n):\n",
    "    if not np.isnan(n):\n",
    "        n = float(n)\n",
    "        millidx = max(0,min(len(millnames)-1,\n",
    "                            int(math.floor(0 if n == 0 else math.log10(abs(n))/3))))\n",
    "\n",
    "        return '{:.2f}{}'.format(n / 10**(3 * millidx), millnames[millidx])\n",
    "    return np.nan"
   ]
  },
  {
   "cell_type": "code",
   "execution_count": null,
   "metadata": {},
   "outputs": [],
   "source": [
    "# to make it more human, smh...\n",
    "for col in ['Current Total Value Of Awards Usd', 'Potential Total Value Of Awards Usd']:\n",
    "    out_order[col] = out_order[col].apply(millify)"
   ]
  },
  {
   "cell_type": "code",
   "execution_count": null,
   "metadata": {},
   "outputs": [],
   "source": [
    "outfile = 'ice_data/data_out/ice_prime_contractors_aggregated_clean_numbers.csv'\n",
    "out_order.to_csv(outfile, index=False)"
   ]
  },
  {
   "cell_type": "markdown",
   "metadata": {},
   "source": [
    "## Plotting Top Contractors\n",
    "We can plot the top paid contractors from past awards, and the contractors who have the most valuable current projects."
   ]
  },
  {
   "cell_type": "code",
   "execution_count": null,
   "metadata": {},
   "outputs": [],
   "source": [
    "%matplotlib inline\n",
    "import matplotlib.pyplot as plt"
   ]
  },
  {
   "cell_type": "code",
   "execution_count": null,
   "metadata": {},
   "outputs": [],
   "source": [
    "ax = output.sort_values(by=['current_total_value_of_awards_USD'], ascending=False) \\\n",
    "           .head(30).plot(x='recipient_parent_name', \n",
    "                          y='current_total_value_of_awards_USD', \n",
    "                          color='orange',\n",
    "                          kind='barh',\n",
    "                          logx=True,\n",
    "                          figsize=(8,12),\n",
    "                          title= \"30 most valuable ICE contractors from since 2006\",\n",
    "                          legend=False)\n",
    "# annotate each bar\n",
    "for rect in ax.patches: \n",
    "    width = rect.get_width()\n",
    "    ax.text(1.2*rect.get_width(), rect.get_y()+ 0.5 * rect.get_height(),\n",
    "            '$' + millify(width),\n",
    "            ha='center', va='center')\n",
    "\n",
    "# remove boarder    \n",
    "for spine in plt.gca().spines.values():\n",
    "    spine.set_visible(False)\n",
    "\n",
    "# remoce axis titles\n",
    "ax.set_xlabel(\"\")\n",
    "ax.set_ylabel(\"\")\n",
    "\n",
    "# remove ticks\n",
    "ax.tick_params(axis=u'both', which=u'both',length=0)\n",
    "ax.get_xaxis().set_ticks([])\n",
    "ax.invert_yaxis();"
   ]
  },
  {
   "cell_type": "code",
   "execution_count": null,
   "metadata": {},
   "outputs": [],
   "source": [
    "ax = output.sort_values(by=['remaining_total_value_of_awards_USD'], ascending=False) \\\n",
    "           .head(30).plot(x='recipient_parent_name', \n",
    "                          y='remaining_total_value_of_awards_USD', \n",
    "                          color='orange',\n",
    "                          kind='barh',\n",
    "                          logx=True,\n",
    "                          figsize=(8,12),\n",
    "                          title= \"30 most valuable ICE contractors in progress\",\n",
    "                          legend=False)\n",
    "# annotate each bar\n",
    "for rect in ax.patches: \n",
    "    width = rect.get_width()\n",
    "    ax.text(1.32*rect.get_width(), rect.get_y()+ 0.5 * rect.get_height(),\n",
    "            '$' + millify(width),\n",
    "            ha='center', va='center')\n",
    "\n",
    "# remove boarder    \n",
    "for spine in plt.gca().spines.values():\n",
    "    spine.set_visible(False)\n",
    "\n",
    "# remoce axis titles\n",
    "ax.set_xlabel(\"\")\n",
    "ax.set_ylabel(\"\")\n",
    "\n",
    "# remove ticks\n",
    "ax.tick_params(axis=u'both', which=u'both',length=0)\n",
    "ax.get_xaxis().set_ticks([])\n",
    "ax.invert_yaxis();"
   ]
  }
 ],
 "metadata": {
  "kernelspec": {
   "display_name": "Python 3",
   "language": "python",
   "name": "python3"
  },
  "language_info": {
   "codemirror_mode": {
    "name": "ipython",
    "version": 3
   },
   "file_extension": ".py",
   "mimetype": "text/x-python",
   "name": "python",
   "nbconvert_exporter": "python",
   "pygments_lexer": "ipython3",
   "version": "3.6.2"
  }
 },
 "nbformat": 4,
 "nbformat_minor": 2
}
